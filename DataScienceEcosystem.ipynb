{
 "cells": [
  {
   "cell_type": "markdown",
   "id": "5239b75a-7080-45bf-b5f2-031cba5e6cde",
   "metadata": {},
   "source": [
    "# Data Science Tools and Ecosystem"
   ]
  },
  {
   "cell_type": "markdown",
   "id": "20ebe289-2795-45e2-af13-67db4c4856bc",
   "metadata": {},
   "source": [
    "## In this notebook, Data Science Tools and Ecosystem are summarized."
   ]
  },
  {
   "cell_type": "markdown",
   "id": "ee57faa1-77fd-435a-b435-a6da1f6ab34d",
   "metadata": {},
   "source": [
    "# __Objectives:__\n",
    "- List popular languages for Data Science\n",
    "- List popular libraries used in Data Science\n",
    "- Simple arithmetic operations in Python\n"
   ]
  },
  {
   "cell_type": "markdown",
   "id": "6b99372f-1666-409b-8385-525829befda4",
   "metadata": {},
   "source": [
    "## Author\n",
    "Ava"
   ]
  },
  {
   "cell_type": "markdown",
   "id": "7ef844b4-622c-44c8-82c3-a6c49306ccaf",
   "metadata": {},
   "source": [
    "### Some of the popular languages that Data Scientists use are:\n",
    "1. Python\n",
    "2. R\n",
    "3. Julia\n",
    "4. SQL\n",
    "5. JavaScript\n"
   ]
  },
  {
   "cell_type": "markdown",
   "id": "b70076a4-7b42-43cb-8c04-402eb8ffc5a2",
   "metadata": {},
   "source": [
    "### Some of the commonly used libraries used by Data Scientists include:\n",
    "1. NumPy\n",
    "2. Pandas\n",
    "3. Matplotlib\n",
    "4. Scikit-learn\n",
    "5. TensorFlow"
   ]
  },
  {
   "cell_type": "markdown",
   "id": "917c1f5b-0376-4c38-814f-b7d110fce1a2",
   "metadata": {},
   "source": [
    "| Data Science Tools|\n",
    "|---|\n",
    "|Jupyter Notebook|\n",
    "|RStudio|\n",
    "|Github|"
   ]
  },
  {
   "cell_type": "markdown",
   "id": "3f82d12c-6825-4ada-8a60-1fdfce0bc5e3",
   "metadata": {},
   "source": [
    "### Below are a few examples of evaluating arithmetic expressions in Python."
   ]
  },
  {
   "cell_type": "code",
   "execution_count": 4,
   "id": "4a82dd08-3142-44fb-87ff-974cc105b540",
   "metadata": {},
   "outputs": [
    {
     "data": {
      "text/plain": [
       "17"
      ]
     },
     "execution_count": 4,
     "metadata": {},
     "output_type": "execute_result"
    }
   ],
   "source": [
    "# This is a simple arithmetic expression to multiply then add integers\n",
    "(3*4)+5"
   ]
  },
  {
   "cell_type": "code",
   "execution_count": 5,
   "id": "cec99197-beb9-4671-a854-728264c3cc8a",
   "metadata": {},
   "outputs": [
    {
     "data": {
      "text/plain": [
       "3.3333333333333335"
      ]
     },
     "execution_count": 5,
     "metadata": {},
     "output_type": "execute_result"
    }
   ],
   "source": [
    "# This will convert 200 minutes to hours by diving by 60\n",
    "200/60"
   ]
  },
  {
   "cell_type": "code",
   "execution_count": null,
   "id": "02645b81-2e62-42b3-b917-a1ecaa9c4717",
   "metadata": {},
   "outputs": [],
   "source": []
  }
 ],
 "metadata": {
  "kernelspec": {
   "display_name": "Python 3 (ipykernel)",
   "language": "python",
   "name": "python3"
  },
  "language_info": {
   "codemirror_mode": {
    "name": "ipython",
    "version": 3
   },
   "file_extension": ".py",
   "mimetype": "text/x-python",
   "name": "python",
   "nbconvert_exporter": "python",
   "pygments_lexer": "ipython3",
   "version": "3.12.7"
  }
 },
 "nbformat": 4,
 "nbformat_minor": 5
}
